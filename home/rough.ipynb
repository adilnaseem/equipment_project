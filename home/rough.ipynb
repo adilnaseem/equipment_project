{
 "cells": [
  {
   "cell_type": "code",
   "execution_count": 7,
   "metadata": {},
   "outputs": [],
   "source": [
    "import pandas as pd\n",
    "\n",
    "df = pd.read_csv(r\"E:\\MyCodes\\BaseTemplate\\takealot.csv\")"
   ]
  },
  {
   "cell_type": "code",
   "execution_count": 7,
   "metadata": {},
   "outputs": [
    {
     "data": {
      "text/plain": [
       "dict_keys(['id', 'title', 'repair_type', 'equipment_id', 'text'])"
      ]
     },
     "execution_count": 7,
     "metadata": {},
     "output_type": "execute_result"
    }
   ],
   "source": [
    "aaa={'id': 2, 'title': 'wesd', 'repair_type': 'pm', 'equipment_id': 2, 'text': '', }\n",
    "for "
   ]
  },
  {
   "cell_type": "code",
   "execution_count": null,
   "metadata": {},
   "outputs": [],
   "source": [
    "import pandas as pd\n",
    "df = pd.read_csv('xray machines.csv')\n",
    "df.head(2)\n",
    "for i in range(0,2):\n",
    "    print(df.iloc[i])\n",
    "df.iloc[0]['Make']"
   ]
  },
  {
   "cell_type": "code",
   "execution_count": 6,
   "metadata": {},
   "outputs": [],
   "source": [
    "import requests, bs4"
   ]
  },
  {
   "cell_type": "code",
   "execution_count": null,
   "metadata": {},
   "outputs": [],
   "source": [
    "url0 = \"https://www.mywsba.org/PersonifyEbusiness/LegalDirectory.aspx?ShowSearchResults=TRUE&LicenseType=Lawyer&EligibleToPractice=Y&Status=Active&Page=0\"\n",
    "\n",
    "# Fetch the web page\n",
    "response0 = requests.get(url0)\n",
    "\n",
    "# Check if the request was successful\n",
    "if response0.status_code == 200:\n",
    "    # Parse the HTML content\n",
    "    soup0 = bs4.BeautifulSoup(response0.content, 'html.parser')\n",
    "trs0=soup0.find('table', {'class':\"search-results\"}).find_all('tr',{'class':\"grid-row\"})\n",
    "for tr0 in trs0[0:1]:\n",
    "    qw = tr0['onclick']\n",
    "    url = 'https://www.mywsba.org/PersonifyEbusiness/'+qw.split(\"'\")[1]\n",
    "        # Fetch the web page\n",
    "    response = requests.get(url)\n",
    "\n",
    "    # Check if the request was successful\n",
    "    if response.status_code == 200:\n",
    "        # Parse the HTML content\n",
    "        soup = bs4.BeautifulSoup(response.content, 'html.parser')\n",
    "    trs=soup.find('div', class_='center mobile-way').find_all('tr')\n",
    "    data={}\n",
    "    name= soup.find('span',{'class':\"name\"}).get_text(separator=\"\",strip=True)\n",
    "    data['Name']=name\n",
    "    for tr in trs:\n",
    "        aa=tr.get_text(strip=True)\n",
    "        key= aa.split(':')[0]\n",
    "        value = ', '.join(aa.split(':')[1:])\n",
    "        data[key]=value\n",
    "\n",
    "    asd = soup.select(':-soup-contains(\"Member of the following groups\")')[-3].get_text(separator=\"\",strip=True).split(':')[1:]\n",
    "    member = 'Member of the following groups:'+', '.join(asd)\n",
    "    Disciplinary_History='Disciplinary History:'+soup.select(':-soup-contains(\"Disciplinary History\")')[-2].find('p').get_text(separator=\"\",strip=True)\n",
    "    data[member.split(':')[0]]=', '.join(member.split(':')[1:])\n",
    "\n",
    "    data[Disciplinary_History.split(':')[0]]=', '.join(Disciplinary_History.split(':')[1:])\n",
    "data\n"
   ]
  }
 ],
 "metadata": {
  "kernelspec": {
   "display_name": "Python 3",
   "language": "python",
   "name": "python3"
  },
  "language_info": {
   "codemirror_mode": {
    "name": "ipython",
    "version": 3
   },
   "file_extension": ".py",
   "mimetype": "text/x-python",
   "name": "python",
   "nbconvert_exporter": "python",
   "pygments_lexer": "ipython3",
   "version": "3.12.8"
  }
 },
 "nbformat": 4,
 "nbformat_minor": 2
}
