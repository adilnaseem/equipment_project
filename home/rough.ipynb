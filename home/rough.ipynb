{
 "cells": [
  {
   "cell_type": "code",
   "execution_count": 7,
   "metadata": {},
   "outputs": [],
   "source": [
    "import pandas as pd\n",
    "\n",
    "df = pd.read_csv(r\"E:\\MyCodes\\BaseTemplate\\takealot.csv\")"
   ]
  },
  {
   "cell_type": "code",
   "execution_count": 7,
   "metadata": {},
   "outputs": [
    {
     "data": {
      "text/plain": [
       "dict_keys(['id', 'title', 'repair_type', 'equipment_id', 'text'])"
      ]
     },
     "execution_count": 7,
     "metadata": {},
     "output_type": "execute_result"
    }
   ],
   "source": [
    "aaa={'id': 2, 'title': 'wesd', 'repair_type': 'pm', 'equipment_id': 2, 'text': '', }\n",
    "for "
   ]
  },
  {
   "cell_type": "code",
   "execution_count": null,
   "metadata": {},
   "outputs": [],
   "source": [
    "import pandas as pd\n",
    "df = pd.read_csv('xray machines.csv')\n",
    "df.head(2)\n",
    "for i in range(0,2):\n",
    "    print(df.iloc[i])\n",
    "df.iloc[0]['Make']"
   ]
  },
  {
   "cell_type": "code",
   "execution_count": 10,
   "metadata": {},
   "outputs": [
    {
     "name": "stdout",
     "output_type": "stream",
     "text": [
      "200\n",
      "200\n",
      "200\n",
      "200\n",
      "200\n",
      "200\n",
      "200\n",
      "200\n",
      "200\n",
      "200\n",
      "200\n",
      "200\n",
      "200\n",
      "200\n",
      "200\n",
      "200\n",
      "200\n",
      "200\n",
      "200\n",
      "200\n",
      "200\n",
      "200\n",
      "200\n",
      "200\n",
      "200\n",
      "200\n",
      "200\n",
      "200\n",
      "200\n",
      "200\n"
     ]
    }
   ],
   "source": [
    "import requests\n",
    "\n",
    "cookies = {\n",
    "    'csrftoken': 'q0ahyYeUqLzDmTWphhPPSMRogzqvAmOT',\n",
    "    'sessionid': 'broo00bn8to4f00d3orq5sfek52i2snw',\n",
    "}\n",
    "\n",
    "headers = {\n",
    "    'Accept': 'text/html,application/xhtml+xml,application/xml;q=0.9,image/avif,image/webp,image/apng,*/*;q=0.8,application/signed-exchange;v=b3;q=0.7',\n",
    "    'Accept-Language': 'en-US,en;q=0.9,ms;q=0.8,ur;q=0.7',\n",
    "    'Cache-Control': 'max-age=0',\n",
    "    'Connection': 'keep-alive',\n",
    "    'Content-Type': 'application/x-www-form-urlencoded',\n",
    "    # 'Cookie': 'csrftoken=CkZt9CFBtF6wdH03h6sGVqwVgocF9oJJ; sessionid=xpf92nf94af0if45akl0udhtnmecopxn',\n",
    "    'Origin': 'http://127.0.0.1:8000',\n",
    "    'Referer': 'http://127.0.0.1:8000/eqptform/',\n",
    "    'Sec-Fetch-Dest': 'document',\n",
    "    'Sec-Fetch-Mode': 'navigate',\n",
    "    'Sec-Fetch-Site': 'same-origin',\n",
    "    'Sec-Fetch-User': '?1',\n",
    "    'Upgrade-Insecure-Requests': '1',\n",
    "    'User-Agent': 'Mozilla/5.0 (Windows NT 10.0; Win64; x64) AppleWebKit/537.36 (KHTML, like Gecko) Chrome/129.0.0.0 Safari/537.36',\n",
    "    'sec-ch-ua': '\"Google Chrome\";v=\"129\", \"Not=A?Brand\";v=\"8\", \"Chromium\";v=\"129\"',\n",
    "    'sec-ch-ua-mobile': '?0',\n",
    "    'sec-ch-ua-platform': '\"Windows\"',\n",
    "}\n",
    "# Make              Smith Detection\n",
    "# Made                      Germany\n",
    "# Model                    6040-2is\n",
    "# Eqpt Ser No                192449\n",
    "# Type                            1\n",
    "# Manufactured               Oct-23\n",
    "# Procured                      CAA\n",
    "# Location                     IC-1\n",
    "# Installed               Int’l S/C\n",
    "# STP                          Pass\n",
    "# Status                        S/A\n",
    "# Recommendation                NaN\n",
    "for i in range(0,len(df)):\n",
    "    data = {\n",
    "        'csrfmiddlewaretoken': 'wSzBk5geRAxz3tYYmeySgNmnAYKZxzqHMIzIITkY7bW2fcKdtldxYp3BGn0kXL4q',\n",
    "        'airport': '1',\n",
    "        'manufacturer': df.iloc[i]['Make'],\n",
    "        'made_in': df.iloc[i]['Made'],\n",
    "        'serial_no': df.iloc[i]['Eqpt Ser No'],\n",
    "        'type': '1',\n",
    "        'title': df.iloc[i]['title'],\n",
    "        'model': df.iloc[i]['Model'],\n",
    "        'status': '1',\n",
    "        'received_from': df.iloc[i]['Procured'],\n",
    "        'date_of_installation': '02/02/2020',\n",
    "        'place_of_installation': '1',\n",
    "        'description': '',\n",
    "        'created_by': '15',\n",
    "    }\n",
    "\n",
    "    response = requests.post('http://127.0.0.1:8000/eqptform/', cookies=cookies, headers=headers, data=data)\n",
    "    print(response.status_code)"
   ]
  }
 ],
 "metadata": {
  "kernelspec": {
   "display_name": "Python 3",
   "language": "python",
   "name": "python3"
  },
  "language_info": {
   "codemirror_mode": {
    "name": "ipython",
    "version": 3
   },
   "file_extension": ".py",
   "mimetype": "text/x-python",
   "name": "python",
   "nbconvert_exporter": "python",
   "pygments_lexer": "ipython3",
   "version": "3.12.1"
  }
 },
 "nbformat": 4,
 "nbformat_minor": 2
}
